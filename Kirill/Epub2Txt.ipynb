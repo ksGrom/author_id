{
 "cells": [
  {
   "cell_type": "code",
   "execution_count": 17,
   "metadata": {},
   "outputs": [],
   "source": [
    "import os\n",
    "import ebooklib\n",
    "from ebooklib import epub\n",
    "import glob\n",
    "from bs4 import BeautifulSoup"
   ]
  },
  {
   "cell_type": "code",
   "execution_count": 6,
   "metadata": {},
   "outputs": [],
   "source": [
    "blacklist = [   '[document]',   'noscript', 'header',   'html', 'meta', 'head','input', 'script',   ]\n",
    "\n",
    "def epub2thtml(epub_path):\n",
    "    book = epub.read_epub(epub_path)\n",
    "    chapters = []\n",
    "    for item in book.get_items():\n",
    "        if item.get_type() == ebooklib.ITEM_DOCUMENT:\n",
    "            chapters.append(item.get_content())\n",
    "    return chapters\n",
    "\n",
    "\n",
    "def chap2text(chap):\n",
    "    output = ''\n",
    "    soup = BeautifulSoup(chap, 'html.parser')\n",
    "    text = soup.find_all(text=True)\n",
    "    for t in text:\n",
    "        if t.parent.name not in blacklist:\n",
    "            output += '{} '.format(t)\n",
    "    return output\n",
    "\n",
    "\n",
    "def thtml2ttext(thtml):\n",
    "    Output = []\n",
    "    for html in thtml:\n",
    "        text = chap2text(html)\n",
    "        Output.append(text)\n",
    "    return Output\n",
    "\n",
    "\n",
    "def epub2text(epub_path):\n",
    "    chapters = epub2thtml(epub_path)\n",
    "    ttext = thtml2ttext(chapters)\n",
    "    return ttext"
   ]
  },
  {
   "cell_type": "code",
   "execution_count": 31,
   "metadata": {},
   "outputs": [
    {
     "name": "stdout",
     "output_type": "stream",
     "text": [
      "Перезаписывать файлы? (y/n)\n",
      "n\n"
     ]
    }
   ],
   "source": [
    "files = glob.glob('texts/**/*.epub', recursive=True)\n",
    "to_overwrite = None\n",
    "for file in files:\n",
    "    text = epub2text(file)\n",
    "    title = file.split(\"\\\\\")[-1].split(\".\")[0]\n",
    "    author = file.split(\"\\\\\")[-2]\n",
    "    txt_dir = os.path.join('texts', 'txt', author) \n",
    "    if not os.path.exists(txt_dir):\n",
    "        os.makedirs(txt_dir)\n",
    "    txt_path = os.path.join(txt_dir, title + '.txt')\n",
    "    if os.path.exists(txt_path):\n",
    "        if to_overwrite is None:\n",
    "            print(\"Перезаписывать файлы? (y/n)\")\n",
    "            to_overwrite = input()\n",
    "        if to_overwrite != 'y':\n",
    "            continue\n",
    "    with open(txt_path, 'w', encoding='utf-8') as new_txt_file:\n",
    "        for part in text:\n",
    "            new_txt_file.write(part)\n",
    "            print(txt_path)"
   ]
  }
 ],
 "metadata": {
  "kernelspec": {
   "display_name": "Python 3 (ipykernel)",
   "language": "python",
   "name": "python3"
  },
  "language_info": {
   "codemirror_mode": {
    "name": "ipython",
    "version": 3
   },
   "file_extension": ".py",
   "mimetype": "text/x-python",
   "name": "python",
   "nbconvert_exporter": "python",
   "pygments_lexer": "ipython3",
   "version": "3.9.13"
  }
 },
 "nbformat": 4,
 "nbformat_minor": 4
}
