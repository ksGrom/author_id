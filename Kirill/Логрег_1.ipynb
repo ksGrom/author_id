{
 "cells": [
  {
   "cell_type": "code",
   "execution_count": 35,
   "metadata": {},
   "outputs": [],
   "source": [
    "import random\n",
    "import collections\n",
    "import seaborn as sns\n",
    "import os\n",
    "import glob\n",
    "import numpy as np\n",
    "from sklearn.decomposition import PCA\n",
    "import re\n",
    "import pandas as pd\n",
    "import matplotlib\n",
    "import matplotlib as mpl\n",
    "import matplotlib.pyplot as plt\n",
    "from tqdm import tqdm\n",
    "from sklearn.manifold import TSNE\n",
    "from wordcloud import WordCloud\n",
    "from pymorphy2 import MorphAnalyzer\n",
    "from nltk.corpus import stopwords\n",
    "from sklearn.model_selection import train_test_split\n",
    "from sklearn.feature_extraction.text import TfidfVectorizer\n",
    "from sklearn.decomposition import TruncatedSVD\n",
    "from sklearn.svm import SVC\n",
    "from sklearn.metrics import f1_score\n",
    "from sklearn.linear_model import LogisticRegression\n",
    "from sklearn.preprocessing import StandardScaler\n",
    "from scipy.sparse import hstack\n",
    "plt.style.use('ggplot')\n",
    "\n",
    "random.seed(42)\n",
    "np.random.seed(42)"
   ]
  },
  {
   "cell_type": "markdown",
   "metadata": {},
   "source": [
    "Автоматический поиск произведений в папках texts/txt/\\*\\* (вместо \\*\\* — имя автора) и создание словарей *название-путь\\_к\\_файлу* (TITLE_PATH_DICT), *название-автор* (TITLE_AUTHOR_DICT), *автор-множество\\_названий\\_произведений* (AUTHOR__TITLE_SET__DICT)."
   ]
  },
  {
   "cell_type": "code",
   "execution_count": 2,
   "metadata": {},
   "outputs": [],
   "source": [
    "FILE_PATHS = glob.glob('texts/converted/**/*.txt', recursive=True)"
   ]
  },
  {
   "cell_type": "code",
   "execution_count": 3,
   "metadata": {},
   "outputs": [],
   "source": [
    "TITLE_PATH_DICT = {path.split(\"\\\\\")[-1].split(\".\")[0] : path for path in FILE_PATHS}\n",
    "TITLE_AUTHOR_DICT = {path.split(\"\\\\\")[-1].split(\".\")[0] : path.split(\"\\\\\")[-2] for path in FILE_PATHS}"
   ]
  },
  {
   "cell_type": "code",
   "execution_count": 4,
   "metadata": {},
   "outputs": [],
   "source": [
    "AUTHOR__TITLE_SET__DICT = collections.defaultdict(set)\n",
    "for title, author in TITLE_AUTHOR_DICT.items():\n",
    "    AUTHOR__TITLE_SET__DICT[author].add(title)\n",
    "AUTHOR__TITLE_SET__DICT = dict(AUTHOR__TITLE_SET__DICT)"
   ]
  },
  {
   "cell_type": "code",
   "execution_count": 5,
   "metadata": {},
   "outputs": [],
   "source": [
    "NPY_FOLDER = 'texts/500_sentences/'"
   ]
  },
  {
   "cell_type": "markdown",
   "metadata": {},
   "source": [
    "## _"
   ]
  },
  {
   "cell_type": "code",
   "execution_count": 62,
   "metadata": {},
   "outputs": [],
   "source": [
    "# patterns = \"[A-Za-z0-9!#$%&'()*+,.…«»/:;<=>?@[\\]^_`{|}~—\\\"\\-]+\"\n",
    "patterns = r'[^а-яё ]+'\n",
    "morph = MorphAnalyzer()\n",
    "\n",
    "def lemmatize(doc, remove_stop_words=True):\n",
    "    doc = re.sub(patterns, ' ', doc.lower()).strip().replace('ё', 'е')\n",
    "    tokens = []\n",
    "    stopwords_ru = stopwords.words(\"russian\") if remove_stop_words else ''\n",
    "    for token in doc.split():\n",
    "        if token and token.strip() not in stopwords_ru:\n",
    "            token = token.strip()\n",
    "            token = morph.normal_forms(token)[0]\n",
    "            tokens.append(token)\n",
    "    return tokens"
   ]
  },
  {
   "cell_type": "code",
   "execution_count": 63,
   "metadata": {},
   "outputs": [
    {
     "name": "stderr",
     "output_type": "stream",
     "text": [
      "100%|████████████████████████████████████████████████████████████████████████████████| 854/854 [05:20<00:00,  2.67it/s]\n"
     ]
    }
   ],
   "source": [
    "excerpt_mul = 1\n",
    "num_of_npys = len(glob.glob(f'{NPY_FOLDER}/**/*.npy', recursive=True))\n",
    "rows = []\n",
    "with tqdm(total=num_of_npys) as pbar:\n",
    "    for author in AUTHOR__TITLE_SET__DICT.keys():\n",
    "            npy_paths = glob.glob(f'{NPY_FOLDER}/{author}/*.npy', recursive=True)\n",
    "            for i in range(0, len(npy_paths), excerpt_mul):\n",
    "                text = ''\n",
    "                for npy_path in npy_paths[i:i+excerpt_mul]:\n",
    "                    text += ' '.join(np.load(npy_path)).replace('ё', 'е')\n",
    "                rows.append(\n",
    "                    {\n",
    "                        'author': author, \n",
    "                        'text': text,\n",
    "                        'lemmas': ' '.join(lemmatize(text))\n",
    "                    })\n",
    "                pbar.update(min(excerpt_mul, len(npy_paths)-i))\n",
    "df = pd.DataFrame(rows)"
   ]
  },
  {
   "cell_type": "code",
   "execution_count": 64,
   "metadata": {},
   "outputs": [],
   "source": [
    "df.to_csv('500_sentences.csv', index=False)"
   ]
  },
  {
   "cell_type": "code",
   "execution_count": 6,
   "metadata": {},
   "outputs": [],
   "source": [
    "df = pd.read_csv('500_sentences.csv')"
   ]
  },
  {
   "cell_type": "code",
   "execution_count": 7,
   "metadata": {},
   "outputs": [
    {
     "data": {
      "text/html": [
       "<div>\n",
       "<style scoped>\n",
       "    .dataframe tbody tr th:only-of-type {\n",
       "        vertical-align: middle;\n",
       "    }\n",
       "\n",
       "    .dataframe tbody tr th {\n",
       "        vertical-align: top;\n",
       "    }\n",
       "\n",
       "    .dataframe thead th {\n",
       "        text-align: right;\n",
       "    }\n",
       "</style>\n",
       "<table border=\"1\" class=\"dataframe\">\n",
       "  <thead>\n",
       "    <tr style=\"text-align: right;\">\n",
       "      <th></th>\n",
       "      <th>author</th>\n",
       "      <th>text</th>\n",
       "      <th>lemmas</th>\n",
       "    </tr>\n",
       "  </thead>\n",
       "  <tbody>\n",
       "    <tr>\n",
       "      <th>0</th>\n",
       "      <td>anton-chekhov</td>\n",
       "      <td>\\n Белолобый \\n Голодная волчиха встала, чтобы...</td>\n",
       "      <td>белолобый голодный волчиха встать идти охота в...</td>\n",
       "    </tr>\n",
       "    <tr>\n",
       "      <th>1</th>\n",
       "      <td>anton-chekhov</td>\n",
       "      <td>не буду!  Мамаша, не буду!  Руку!  \\n — Тем б...</td>\n",
       "      <td>быть мамаша быть рука подавать повод продолжат...</td>\n",
       "    </tr>\n",
       "    <tr>\n",
       "      <th>2</th>\n",
       "      <td>anton-chekhov</td>\n",
       "      <td>\\n Сторож уже давно не стучит.  Под окном и в...</td>\n",
       "      <td>сторож давно стучать окно сад зашуметь птица т...</td>\n",
       "    </tr>\n",
       "    <tr>\n",
       "      <th>3</th>\n",
       "      <td>anton-chekhov</td>\n",
       "      <td>\\n — Я с вами, папаша, вполне согласен, — гов...</td>\n",
       "      <td>вы папаша вполне согласный говорить хриплый те...</td>\n",
       "    </tr>\n",
       "    <tr>\n",
       "      <th>4</th>\n",
       "      <td>anton-chekhov</td>\n",
       "      <td>Свойкин опустился на диван и принялся ждать. ...</td>\n",
       "      <td>свойкин опуститься диван приняться ждать касси...</td>\n",
       "    </tr>\n",
       "    <tr>\n",
       "      <th>...</th>\n",
       "      <td>...</td>\n",
       "      <td>...</td>\n",
       "      <td>...</td>\n",
       "    </tr>\n",
       "    <tr>\n",
       "      <th>849</th>\n",
       "      <td>sergey-aksakov</td>\n",
       "      <td>\\n В городе беспрестанно получались разные из...</td>\n",
       "      <td>город беспрестанно получаться разный известие ...</td>\n",
       "    </tr>\n",
       "    <tr>\n",
       "      <th>850</th>\n",
       "      <td>sergey-aksakov</td>\n",
       "      <td>Я осмелился подойти поближе и стал возле Чича...</td>\n",
       "      <td>осмелиться подойти близкий стать возле чичагов...</td>\n",
       "    </tr>\n",
       "    <tr>\n",
       "      <th>851</th>\n",
       "      <td>sergey-aksakov</td>\n",
       "      <td>Много содействовали тому разговоры с отцом и ...</td>\n",
       "      <td>содействовать тот разговор отец евсеевич котор...</td>\n",
       "    </tr>\n",
       "    <tr>\n",
       "      <th>852</th>\n",
       "      <td>sergey-aksakov</td>\n",
       "      <td>Мать очень любила и дорожила полевой клубнико...</td>\n",
       "      <td>мать очень любить дорожить полевой клубника сч...</td>\n",
       "    </tr>\n",
       "    <tr>\n",
       "      <th>853</th>\n",
       "      <td>sergey-aksakov</td>\n",
       "      <td>И. Миницкий и А. И. Ковригина, как самые близк...</td>\n",
       "      <td>миницкий ковригин самый близкий человек праско...</td>\n",
       "    </tr>\n",
       "  </tbody>\n",
       "</table>\n",
       "<p>854 rows × 3 columns</p>\n",
       "</div>"
      ],
      "text/plain": [
       "             author                                               text  \\\n",
       "0     anton-chekhov  \\n Белолобый \\n Голодная волчиха встала, чтобы...   \n",
       "1     anton-chekhov   не буду!  Мамаша, не буду!  Руку!  \\n — Тем б...   \n",
       "2     anton-chekhov   \\n Сторож уже давно не стучит.  Под окном и в...   \n",
       "3     anton-chekhov   \\n — Я с вами, папаша, вполне согласен, — гов...   \n",
       "4     anton-chekhov   Свойкин опустился на диван и принялся ждать. ...   \n",
       "..              ...                                                ...   \n",
       "849  sergey-aksakov   \\n В городе беспрестанно получались разные из...   \n",
       "850  sergey-aksakov   Я осмелился подойти поближе и стал возле Чича...   \n",
       "851  sergey-aksakov   Много содействовали тому разговоры с отцом и ...   \n",
       "852  sergey-aksakov   Мать очень любила и дорожила полевой клубнико...   \n",
       "853  sergey-aksakov  И. Миницкий и А. И. Ковригина, как самые близк...   \n",
       "\n",
       "                                                lemmas  \n",
       "0    белолобый голодный волчиха встать идти охота в...  \n",
       "1    быть мамаша быть рука подавать повод продолжат...  \n",
       "2    сторож давно стучать окно сад зашуметь птица т...  \n",
       "3    вы папаша вполне согласный говорить хриплый те...  \n",
       "4    свойкин опуститься диван приняться ждать касси...  \n",
       "..                                                 ...  \n",
       "849  город беспрестанно получаться разный известие ...  \n",
       "850  осмелиться подойти близкий стать возле чичагов...  \n",
       "851  содействовать тот разговор отец евсеевич котор...  \n",
       "852  мать очень любить дорожить полевой клубника сч...  \n",
       "853  миницкий ковригин самый близкий человек праско...  \n",
       "\n",
       "[854 rows x 3 columns]"
      ]
     },
     "execution_count": 7,
     "metadata": {},
     "output_type": "execute_result"
    }
   ],
   "source": [
    "df"
   ]
  },
  {
   "cell_type": "code",
   "execution_count": 8,
   "metadata": {},
   "outputs": [
    {
     "data": {
      "image/png": "[encoded data removed]",
      "text/plain": [
       "<Figure size 1800x600 with 1 Axes>"
      ]
     },
     "metadata": {},
     "output_type": "display_data"
    }
   ],
   "source": [
    "sns.set(rc={'figure.figsize':(18,6)})\n",
    "sns.histplot(data=df, x=df['author'],)\n",
    "plt.show();"
   ]
  },
  {
   "cell_type": "code",
   "execution_count": 9,
   "metadata": {},
   "outputs": [],
   "source": [
    "df_train, df_test = train_test_split(df, test_size=0.2)"
   ]
  },
  {
   "cell_type": "code",
   "execution_count": 58,
   "metadata": {},
   "outputs": [
    {
     "name": "stdout",
     "output_type": "stream",
     "text": [
      "CPU times: total: 58.3 s\n",
      "Wall time: 58.3 s\n"
     ]
    }
   ],
   "source": [
    "%%time\n",
    "char_vec_l = TfidfVectorizer(analyzer='char', ngram_range=(1, 6), sublinear_tf=True) \n",
    "clX_train = char_vec_l.fit_transform(df_train['lemmas'])"
   ]
  },
  {
   "cell_type": "code",
   "execution_count": 59,
   "metadata": {
    "scrolled": true
   },
   "outputs": [
    {
     "name": "stdout",
     "output_type": "stream",
     "text": [
      "CPU times: total: 14.1 s\n",
      "Wall time: 14.2 s\n"
     ]
    }
   ],
   "source": [
    "%%time\n",
    "char_vec_t = TfidfVectorizer(analyzer='char', ngram_range=(1, 2), sublinear_tf=True) \n",
    "ctX_train = char_vec_t.fit_transform(df_train['text'])"
   ]
  },
  {
   "cell_type": "code",
   "execution_count": 60,
   "metadata": {},
   "outputs": [
    {
     "name": "stdout",
     "output_type": "stream",
     "text": [
      "CPU times: total: 2min 2s\n",
      "Wall time: 1min 29s\n"
     ]
    }
   ],
   "source": [
    "%%time\n",
    "char_pca = TruncatedSVD(100)\n",
    "cX_train = hstack([clX_train, ctX_train])\n",
    "char_pca.fit(cX_train)\n",
    "cX_train_pca = char_pca.transform(cX_train)"
   ]
  },
  {
   "cell_type": "code",
   "execution_count": 61,
   "metadata": {},
   "outputs": [],
   "source": [
    "y_train = df_train['author']\n",
    "X_train = np.copy(cX_train_pca)\n",
    "\n",
    "normalizer = StandardScaler()\n",
    "normalizer.fit(X_train)\n",
    "X_train_scaled = normalizer.transform(X_train)"
   ]
  },
  {
   "cell_type": "code",
   "execution_count": 62,
   "metadata": {},
   "outputs": [
    {
     "name": "stderr",
     "output_type": "stream",
     "text": [
      "100%|██████████████████████████████████████████████████████████████████████████████████| 10/10 [00:00<00:00, 53.19it/s]\n"
     ]
    }
   ],
   "source": [
    "clf = LogisticRegression(random_state=42, max_iter=50000, warm_start=True, C=1)\n",
    "ran = np.arange(y_train.shape[0])\n",
    "inds = np.array_split(ran, 10)\n",
    "inds = [np.concatenate((chunk, np.array(random.sample(list(ran), k=50))), axis=None) for chunk in inds]\n",
    "\n",
    "for chunk in tqdm(inds):\n",
    "    clf.fit(X_train_scaled[chunk, :], y_train.iloc[chunk].values.ravel())"
   ]
  },
  {
   "cell_type": "code",
   "execution_count": 63,
   "metadata": {},
   "outputs": [],
   "source": [
    "def get_features(df_test):\n",
    "    if 'author' in df_test.columns:\n",
    "        y_test = df_test.author\n",
    "    else:\n",
    "        y_test = None\n",
    "    \n",
    "    clX_test = char_vec_l.transform(df_test['lemmas'])\n",
    "    ctX_test = char_vec_t.transform(df_test['text'])\n",
    "    \n",
    "    cX_test = hstack([clX_test, ctX_test])\n",
    "    cX_test_pca = char_pca.transform(cX_test)\n",
    "    \n",
    "    X_test = cX_test_pca\n",
    "    X_test_scaled = normalizer.transform(X_test)\n",
    "    return X_test_scaled, y_test"
   ]
  },
  {
   "cell_type": "code",
   "execution_count": 64,
   "metadata": {},
   "outputs": [
    {
     "name": "stdout",
     "output_type": "stream",
     "text": [
      "CPU times: total: 19.5 s\n",
      "Wall time: 18.7 s\n"
     ]
    }
   ],
   "source": [
    "%%time\n",
    "X_test_scaled, y_test = get_features(df_test)"
   ]
  },
  {
   "cell_type": "code",
   "execution_count": 65,
   "metadata": {},
   "outputs": [
    {
     "data": {
      "text/plain": [
       "0.9005847953216374"
      ]
     },
     "execution_count": 65,
     "metadata": {},
     "output_type": "execute_result"
    }
   ],
   "source": [
    "pred_test = clf.predict(X_test_scaled)\n",
    "f1_score(y_test, pred_test, average='micro')"
   ]
  },
  {
   "cell_type": "code",
   "execution_count": 66,
   "metadata": {},
   "outputs": [],
   "source": [
    "def baseline(df_train, df_test):\n",
    "    pred = df_train.groupby(by='author').count()['text'].idxmax()\n",
    "    return [pred for i in range(df_test.shape[0])]"
   ]
  },
  {
   "cell_type": "code",
   "execution_count": 68,
   "metadata": {},
   "outputs": [
    {
     "data": {
      "text/plain": [
       "0.23391812865497075"
      ]
     },
     "execution_count": 68,
     "metadata": {},
     "output_type": "execute_result"
    }
   ],
   "source": [
    "pred_test_baseline = baseline(df_train, df_test)\n",
    "f1_score(y_test, pred_test_baseline, average='micro')"
   ]
  }
 ],
 "metadata": {
  "kernelspec": {
   "display_name": "Python 3 (ipykernel)",
   "language": "python",
   "name": "python3"
  },
  "language_info": {
   "codemirror_mode": {
    "name": "ipython",
    "version": 3
   },
   "file_extension": ".py",
   "mimetype": "text/x-python",
   "name": "python",
   "nbconvert_exporter": "python",
   "pygments_lexer": "ipython3",
   "version": "3.9.13"
  }
 },
 "nbformat": 4,
 "nbformat_minor": 4
}
