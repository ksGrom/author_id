{
  "nbformat": 4,
  "nbformat_minor": 0,
  "metadata": {
    "colab": {
      "provenance": []
    },
    "kernelspec": {
      "name": "python3",
      "display_name": "Python 3"
    },
    "language_info": {
      "name": "python"
    }
  },
  "cells": [
    {
      "cell_type": "markdown",
      "source": [
        "# **Логистическая регрессия и CatBoost для метрик удобочитаемости, лексического разнообразия и пр. для текстов**"
      ],
      "metadata": {
        "id": "GcHPx_bG_7-P"
      }
    },
    {
      "cell_type": "code",
      "execution_count": 1,
      "metadata": {
        "id": "U523ec3JOhZp"
      },
      "outputs": [],
      "source": [
        "import pandas as pd\n",
        "import numpy as np\n",
        "from text_metrics import logreg_for_metrics, catboost_for_metrics, get_variables, prepare_metric_dataset"
      ]
    },
    {
      "cell_type": "markdown",
      "source": [
        "## Чтение данных с гитхаба"
      ],
      "metadata": {
        "id": "RotUT_M7_zwq"
      }
    },
    {
      "cell_type": "markdown",
      "source": [
        "* *Ссылку надо обновлять, т.к. меняется токен*\n",
        "* *Лучше открывать сразу датасет с посчитанными метриками, потому что считаются они очень долго (ссылки как раз на них)*"
      ],
      "metadata": {
        "id": "Xx-rQ44eOgM5"
      }
    },
    {
      "cell_type": "code",
      "source": [
        "# df_train = pd.read_csv('TRAIN_500words_lemmatized_metrics.csv')\n",
        "# df_test = pd.read_csv('TEST_500words_lemmatized_metrics.csv')\n",
        "\n",
        "df_train = pd.read_csv('https://raw.githubusercontent.com/anyakazachkova/project/main/%D0%A7%D0%B5%D0%BA%D0%BF%D0%BE%D0%B8%D0%BD%D1%82%20%E2%84%964/data/TRAIN_500words_lemmatized_metrics.csv?token=GHSAT0AAAAAAB2L7SLJUQP5JDNTJKYCJQQSY7I2ZFQ')\n",
        "df_test = pd.read_csv('https://raw.githubusercontent.com/anyakazachkova/project/main/%D0%A7%D0%B5%D0%BA%D0%BF%D0%BE%D0%B8%D0%BD%D1%82%20%E2%84%964/data/TEST_500words_lemmatized_metrics.csv?token=GHSAT0AAAAAAB2L7SLI4VQO3VWACXR63SYAY7I2ZNQ')"
      ],
      "metadata": {
        "id": "nbyoVmfSNVVf"
      },
      "execution_count": 10,
      "outputs": []
    },
    {
      "cell_type": "markdown",
      "source": [
        "# Обучение моделей"
      ],
      "metadata": {
        "id": "hSsvpen_j2cG"
      }
    },
    {
      "cell_type": "markdown",
      "source": [
        "*Функции для логистической регрессии и катбуста запусают ообучение модели на трейне, показывают принтом f1-micro на тесте и на выходе возвращают обученную модель.*"
      ],
      "metadata": {
        "id": "ArzWDIWlgjRS"
      }
    },
    {
      "cell_type": "markdown",
      "source": [
        "## 1. Логистическая регрессия"
      ],
      "metadata": {
        "id": "EhfVaYiaxUlR"
      }
    },
    {
      "cell_type": "code",
      "source": [
        "logreg_for_metrics(df_train, df_test)"
      ],
      "metadata": {
        "colab": {
          "base_uri": "https://localhost:8080/"
        },
        "id": "LVfgibk4xb4A",
        "outputId": "c13125c2-1612-4d63-b166-47bed56fc522"
      },
      "execution_count": 11,
      "outputs": [
        {
          "output_type": "stream",
          "name": "stdout",
          "text": [
            "F1-score:  0.383177570093458\n"
          ]
        },
        {
          "output_type": "execute_result",
          "data": {
            "text/plain": [
              "LogisticRegression(C=121, max_iter=10000, multi_class='multinomial')"
            ]
          },
          "metadata": {},
          "execution_count": 11
        }
      ]
    },
    {
      "cell_type": "markdown",
      "source": [
        "## 2. Catboost"
      ],
      "metadata": {
        "id": "bIXpdq5gxUuW"
      }
    },
    {
      "cell_type": "code",
      "source": [
        "!pip install catboost"
      ],
      "metadata": {
        "id": "aOjLOL6pj8uI",
        "colab": {
          "base_uri": "https://localhost:8080/"
        },
        "outputId": "00097929-37f2-4bae-d044-f068e8cf6888"
      },
      "execution_count": 12,
      "outputs": [
        {
          "output_type": "stream",
          "name": "stdout",
          "text": [
            "Looking in indexes: https://pypi.org/simple, https://us-python.pkg.dev/colab-wheels/public/simple/\n",
            "Requirement already satisfied: catboost in /usr/local/lib/python3.8/dist-packages (1.1.1)\n",
            "Requirement already satisfied: six in /usr/local/lib/python3.8/dist-packages (from catboost) (1.15.0)\n",
            "Requirement already satisfied: pandas>=0.24.0 in /usr/local/lib/python3.8/dist-packages (from catboost) (1.3.5)\n",
            "Requirement already satisfied: scipy in /usr/local/lib/python3.8/dist-packages (from catboost) (1.7.3)\n",
            "Requirement already satisfied: numpy>=1.16.0 in /usr/local/lib/python3.8/dist-packages (from catboost) (1.21.6)\n",
            "Requirement already satisfied: matplotlib in /usr/local/lib/python3.8/dist-packages (from catboost) (3.2.2)\n",
            "Requirement already satisfied: plotly in /usr/local/lib/python3.8/dist-packages (from catboost) (5.5.0)\n",
            "Requirement already satisfied: graphviz in /usr/local/lib/python3.8/dist-packages (from catboost) (0.10.1)\n",
            "Requirement already satisfied: pytz>=2017.3 in /usr/local/lib/python3.8/dist-packages (from pandas>=0.24.0->catboost) (2022.7.1)\n",
            "Requirement already satisfied: python-dateutil>=2.7.3 in /usr/local/lib/python3.8/dist-packages (from pandas>=0.24.0->catboost) (2.8.2)\n",
            "Requirement already satisfied: cycler>=0.10 in /usr/local/lib/python3.8/dist-packages (from matplotlib->catboost) (0.11.0)\n",
            "Requirement already satisfied: pyparsing!=2.0.4,!=2.1.2,!=2.1.6,>=2.0.1 in /usr/local/lib/python3.8/dist-packages (from matplotlib->catboost) (3.0.9)\n",
            "Requirement already satisfied: kiwisolver>=1.0.1 in /usr/local/lib/python3.8/dist-packages (from matplotlib->catboost) (1.4.4)\n",
            "Requirement already satisfied: tenacity>=6.2.0 in /usr/local/lib/python3.8/dist-packages (from plotly->catboost) (8.2.0)\n"
          ]
        }
      ]
    },
    {
      "cell_type": "code",
      "source": [
        "catboost_for_metrics(df_train, df_test)"
      ],
      "metadata": {
        "id": "DTW4Nw7GlybC",
        "colab": {
          "base_uri": "https://localhost:8080/"
        },
        "outputId": "1641d64b-642a-497f-b140-b2b901379035"
      },
      "execution_count": 13,
      "outputs": [
        {
          "output_type": "stream",
          "name": "stdout",
          "text": [
            "F1-score:  0.3792424987702902\n"
          ]
        }
      ]
    }
  ]
}