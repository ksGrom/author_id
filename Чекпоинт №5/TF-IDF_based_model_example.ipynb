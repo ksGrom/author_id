{
 "cells": [
  {
   "cell_type": "code",
   "execution_count": 1,
   "metadata": {},
   "outputs": [],
   "source": [
    "import random\n",
    "import seaborn as sns\n",
    "import numpy as np\n",
    "import pandas as pd\n",
    "import matplotlib.pyplot as plt\n",
    "from tqdm import tqdm\n",
    "from sklearn.model_selection import train_test_split\n",
    "from sklearn.metrics import f1_score, confusion_matrix, \\\n",
    "     multilabel_confusion_matrix, roc_auc_score, accuracy_score\n",
    "from sklearn.linear_model import LogisticRegression\n",
    "from sklearn.preprocessing import StandardScaler\n",
    "from scipy.sparse import hstack\n",
    "from sklearn.linear_model import SGDClassifier\n",
    "from catboost import CatBoostClassifier\n",
    "from sklearn.pipeline import Pipeline\n",
    "plt.style.use('ggplot')\n",
    "\n",
    "random.seed(42)\n",
    "np.random.seed(42)"
   ]
  },
  {
   "cell_type": "code",
   "execution_count": 2,
   "metadata": {},
   "outputs": [],
   "source": [
    "df_train = pd.read_csv('datasets/TRAIN_250words_lemmatized.csv')\n",
    "df_test = pd.read_csv('datasets/TEST_250words_lemmatized.csv')\n",
    "\n",
    "df = pd.concat([df_train, df_test], axis=0, ignore_index=True)"
   ]
  },
  {
   "cell_type": "code",
   "execution_count": 11,
   "metadata": {},
   "outputs": [
    {
     "data": {
      "text/html": [
       "<div>\n",
       "<style scoped>\n",
       "    .dataframe tbody tr th:only-of-type {\n",
       "        vertical-align: middle;\n",
       "    }\n",
       "\n",
       "    .dataframe tbody tr th {\n",
       "        vertical-align: top;\n",
       "    }\n",
       "\n",
       "    .dataframe thead th {\n",
       "        text-align: right;\n",
       "    }\n",
       "</style>\n",
       "<table border=\"1\" class=\"dataframe\">\n",
       "  <thead>\n",
       "    <tr style=\"text-align: right;\">\n",
       "      <th></th>\n",
       "      <th>author</th>\n",
       "      <th>author_surname</th>\n",
       "      <th>work_title</th>\n",
       "      <th>excerpt_num</th>\n",
       "      <th>text</th>\n",
       "      <th>lemmas</th>\n",
       "    </tr>\n",
       "  </thead>\n",
       "  <tbody>\n",
       "    <tr>\n",
       "      <th>8417</th>\n",
       "      <td>ivan-goncharov</td>\n",
       "      <td>Гончаров</td>\n",
       "      <td>obryv</td>\n",
       "      <td>477</td>\n",
       "      <td>Счастье, говорят, в глубокой, сильной любви…\\n...</td>\n",
       "      <td>счастие говорить глубокий сильный любовь ложь ...</td>\n",
       "    </tr>\n",
       "  </tbody>\n",
       "</table>\n",
       "</div>"
      ],
      "text/plain": [
       "              author author_surname work_title  excerpt_num  \\\n",
       "8417  ivan-goncharov       Гончаров      obryv          477   \n",
       "\n",
       "                                                   text  \\\n",
       "8417  Счастье, говорят, в глубокой, сильной любви…\\n...   \n",
       "\n",
       "                                                 lemmas  \n",
       "8417  счастие говорить глубокий сильный любовь ложь ...  "
      ]
     },
     "execution_count": 11,
     "metadata": {},
     "output_type": "execute_result"
    }
   ],
   "source": [
    "df_train.sample(1)"
   ]
  },
  {
   "cell_type": "code",
   "execution_count": 4,
   "metadata": {},
   "outputs": [],
   "source": [
    "import tfidf_utils as utils"
   ]
  },
  {
   "cell_type": "markdown",
   "metadata": {},
   "source": [
    "### Обучение и применение модели"
   ]
  },
  {
   "cell_type": "code",
   "execution_count": 6,
   "metadata": {},
   "outputs": [],
   "source": [
    "# Инициализируем пайплайн-классификатор\n",
    "pipe = utils.AuthorIdentificationTfidfPipeline()"
   ]
  },
  {
   "cell_type": "markdown",
   "metadata": {},
   "source": [
    "Методу *fit* передается либо один аргумент: датафрейм **X**, если в нем есть столбец *author*; \n",
    "\n",
    "либо два аргумента: датафрейм **X** без стобца *author* и столбец **y** с авторами."
   ]
  },
  {
   "cell_type": "code",
   "execution_count": 7,
   "metadata": {},
   "outputs": [
    {
     "name": "stdout",
     "output_type": "stream",
     "text": [
      "CPU times: total: 56.4 s\n",
      "Wall time: 47.4 s\n"
     ]
    },
    {
     "data": {
      "text/plain": [
       "<tfidf_utils.AuthorIdentificationTfidfPipeline at 0x274ae992fd0>"
      ]
     },
     "execution_count": 7,
     "metadata": {},
     "output_type": "execute_result"
    }
   ],
   "source": [
    "%%time\n",
    "pipe.fit(df_train)"
   ]
  },
  {
   "cell_type": "code",
   "execution_count": 8,
   "metadata": {},
   "outputs": [
    {
     "name": "stdout",
     "output_type": "stream",
     "text": [
      "CPU times: total: 10.7 s\n",
      "Wall time: 9 s\n"
     ]
    }
   ],
   "source": [
    "%%time\n",
    "y_pred = pipe.predict(df_test)"
   ]
  },
  {
   "cell_type": "code",
   "execution_count": 9,
   "metadata": {},
   "outputs": [
    {
     "data": {
      "text/plain": [
       "0.9130442211773854"
      ]
     },
     "execution_count": 9,
     "metadata": {},
     "output_type": "execute_result"
    }
   ],
   "source": [
    "f1_score(df_test.author, y_pred, average='weighted')"
   ]
  },
  {
   "cell_type": "markdown",
   "metadata": {},
   "source": [
    "#### Confusion matrix"
   ]
  },
  {
   "cell_type": "code",
   "execution_count": 10,
   "metadata": {},
   "outputs": [
    {
     "data": {
      "image/png": "[encoded data removed]",
      "text/plain": [
       "<Figure size 500x400 with 2 Axes>"
      ]
     },
     "metadata": {},
     "output_type": "display_data"
    }
   ],
   "source": [
    "utils.plot_confusion_matrix(\n",
    "    df_test.author, \n",
    "    y_pred, \n",
    "    utils.author_rus_surnames(df_test) # чтобы оси были подписаны по-русски\n",
    ")"
   ]
  },
  {
   "cell_type": "markdown",
   "metadata": {},
   "source": [
    "#### Ошибочно классифицированные объекты"
   ]
  },
  {
   "cell_type": "code",
   "execution_count": 13,
   "metadata": {
    "scrolled": true
   },
   "outputs": [
    {
     "data": {
      "text/html": [
       "<div>\n",
       "<style scoped>\n",
       "    .dataframe tbody tr th:only-of-type {\n",
       "        vertical-align: middle;\n",
       "    }\n",
       "\n",
       "    .dataframe tbody tr th {\n",
       "        vertical-align: top;\n",
       "    }\n",
       "\n",
       "    .dataframe thead th {\n",
       "        text-align: right;\n",
       "    }\n",
       "</style>\n",
       "<table border=\"1\" class=\"dataframe\">\n",
       "  <thead>\n",
       "    <tr style=\"text-align: right;\">\n",
       "      <th></th>\n",
       "      <th>y_true</th>\n",
       "      <th>y_pred</th>\n",
       "      <th>author_surname</th>\n",
       "      <th>work_title</th>\n",
       "      <th>excerpt_num</th>\n",
       "      <th>text</th>\n",
       "      <th>lemmas</th>\n",
       "    </tr>\n",
       "  </thead>\n",
       "  <tbody>\n",
       "    <tr>\n",
       "      <th>7</th>\n",
       "      <td>anton-chekhov</td>\n",
       "      <td>maksim-gorkii</td>\n",
       "      <td>Чехов</td>\n",
       "      <td>beglec</td>\n",
       "      <td>1</td>\n",
       "      <td>Проходя мимо подпрыгивающего парня, он пожал п...</td>\n",
       "      <td>проходить мимо подпрыгивать парень пожать плеч...</td>\n",
       "    </tr>\n",
       "    <tr>\n",
       "      <th>11</th>\n",
       "      <td>anton-chekhov</td>\n",
       "      <td>lev-tolstoi</td>\n",
       "      <td>Чехов</td>\n",
       "      <td>beglec</td>\n",
       "      <td>5</td>\n",
       "      <td>В это время вошла сиделка с новыми мисками. На...</td>\n",
       "      <td>это время войти сиделка новый миска миска жарк...</td>\n",
       "    </tr>\n",
       "    <tr>\n",
       "      <th>12</th>\n",
       "      <td>anton-chekhov</td>\n",
       "      <td>lev-tolstoi</td>\n",
       "      <td>Чехов</td>\n",
       "      <td>beglec</td>\n",
       "      <td>6</td>\n",
       "      <td>\\n Вернувшись к себе в палату, Пашка сел на кр...</td>\n",
       "      <td>вернуться палата пашка сесть кровать стать дож...</td>\n",
       "    </tr>\n",
       "    <tr>\n",
       "      <th>14</th>\n",
       "      <td>anton-chekhov</td>\n",
       "      <td>lev-tolstoi</td>\n",
       "      <td>Чехов</td>\n",
       "      <td>belolobyi</td>\n",
       "      <td>1</td>\n",
       "      <td>и прежде чем пойти дальше: «Полный ход!» При н...</td>\n",
       "      <td>прежде пойти далёкий полный ход немой находить...</td>\n",
       "    </tr>\n",
       "    <tr>\n",
       "      <th>15</th>\n",
       "      <td>anton-chekhov</td>\n",
       "      <td>lev-tolstoi</td>\n",
       "      <td>Чехов</td>\n",
       "      <td>belolobyi</td>\n",
       "      <td>2</td>\n",
       "      <td>Пошел к свистку! \\n И свистел, как машина, и п...</td>\n",
       "      <td>пойти свисток свистеть машина го го го го весь...</td>\n",
       "    </tr>\n",
       "    <tr>\n",
       "      <th>...</th>\n",
       "      <td>...</td>\n",
       "      <td>...</td>\n",
       "      <td>...</td>\n",
       "      <td>...</td>\n",
       "      <td>...</td>\n",
       "      <td>...</td>\n",
       "      <td>...</td>\n",
       "    </tr>\n",
       "    <tr>\n",
       "      <th>3938</th>\n",
       "      <td>sergey-aksakov</td>\n",
       "      <td>ivan-turgenev</td>\n",
       "      <td>Аксаков</td>\n",
       "      <td>semeinaya-khronika</td>\n",
       "      <td>186</td>\n",
       "      <td>\\n Но Афросинья Андревна стоит того, чтоб с не...</td>\n",
       "      <td>афросинья андревич стоить она немного познаком...</td>\n",
       "    </tr>\n",
       "    <tr>\n",
       "      <th>3940</th>\n",
       "      <td>sergey-aksakov</td>\n",
       "      <td>nikolai-gogol</td>\n",
       "      <td>Аксаков</td>\n",
       "      <td>semeinaya-khronika</td>\n",
       "      <td>188</td>\n",
       "      <td>Кальпинского хозяин не жаловал и за то, что он...</td>\n",
       "      <td>кальпинский хозяин жаловать произойти еретик р...</td>\n",
       "    </tr>\n",
       "    <tr>\n",
       "      <th>3956</th>\n",
       "      <td>sergey-aksakov</td>\n",
       "      <td>lev-tolstoi</td>\n",
       "      <td>Аксаков</td>\n",
       "      <td>semeinaya-khronika</td>\n",
       "      <td>204</td>\n",
       "      <td>Степан Михайлыч посмотрел на него, полюбовался...</td>\n",
       "      <td>степан михайлович посмотреть полюбоваться сказ...</td>\n",
       "    </tr>\n",
       "    <tr>\n",
       "      <th>3964</th>\n",
       "      <td>sergey-aksakov</td>\n",
       "      <td>dmitriy-mamin-sibiryak</td>\n",
       "      <td>Аксаков</td>\n",
       "      <td>semeinaya-khronika</td>\n",
       "      <td>212</td>\n",
       "      <td>Через несколько времени дело обошлось, уладило...</td>\n",
       "      <td>несколько время дело обойтись уладиться отноше...</td>\n",
       "    </tr>\n",
       "    <tr>\n",
       "      <th>3982</th>\n",
       "      <td>sergey-aksakov</td>\n",
       "      <td>dmitriy-mamin-sibiryak</td>\n",
       "      <td>Аксаков</td>\n",
       "      <td>semeinaya-khronika</td>\n",
       "      <td>230</td>\n",
       "      <td>Софья Николавна безвыходно оставалась при отце...</td>\n",
       "      <td>софья николаевич безвыходный оставаться отец с...</td>\n",
       "    </tr>\n",
       "  </tbody>\n",
       "</table>\n",
       "<p>344 rows × 7 columns</p>\n",
       "</div>"
      ],
      "text/plain": [
       "              y_true                  y_pred author_surname  \\\n",
       "7      anton-chekhov           maksim-gorkii          Чехов   \n",
       "11     anton-chekhov             lev-tolstoi          Чехов   \n",
       "12     anton-chekhov             lev-tolstoi          Чехов   \n",
       "14     anton-chekhov             lev-tolstoi          Чехов   \n",
       "15     anton-chekhov             lev-tolstoi          Чехов   \n",
       "...              ...                     ...            ...   \n",
       "3938  sergey-aksakov           ivan-turgenev        Аксаков   \n",
       "3940  sergey-aksakov           nikolai-gogol        Аксаков   \n",
       "3956  sergey-aksakov             lev-tolstoi        Аксаков   \n",
       "3964  sergey-aksakov  dmitriy-mamin-sibiryak        Аксаков   \n",
       "3982  sergey-aksakov  dmitriy-mamin-sibiryak        Аксаков   \n",
       "\n",
       "              work_title  excerpt_num  \\\n",
       "7                 beglec            1   \n",
       "11                beglec            5   \n",
       "12                beglec            6   \n",
       "14             belolobyi            1   \n",
       "15             belolobyi            2   \n",
       "...                  ...          ...   \n",
       "3938  semeinaya-khronika          186   \n",
       "3940  semeinaya-khronika          188   \n",
       "3956  semeinaya-khronika          204   \n",
       "3964  semeinaya-khronika          212   \n",
       "3982  semeinaya-khronika          230   \n",
       "\n",
       "                                                   text  \\\n",
       "7     Проходя мимо подпрыгивающего парня, он пожал п...   \n",
       "11    В это время вошла сиделка с новыми мисками. На...   \n",
       "12    \\n Вернувшись к себе в палату, Пашка сел на кр...   \n",
       "14    и прежде чем пойти дальше: «Полный ход!» При н...   \n",
       "15    Пошел к свистку! \\n И свистел, как машина, и п...   \n",
       "...                                                 ...   \n",
       "3938  \\n Но Афросинья Андревна стоит того, чтоб с не...   \n",
       "3940  Кальпинского хозяин не жаловал и за то, что он...   \n",
       "3956  Степан Михайлыч посмотрел на него, полюбовался...   \n",
       "3964  Через несколько времени дело обошлось, уладило...   \n",
       "3982  Софья Николавна безвыходно оставалась при отце...   \n",
       "\n",
       "                                                 lemmas  \n",
       "7     проходить мимо подпрыгивать парень пожать плеч...  \n",
       "11    это время войти сиделка новый миска миска жарк...  \n",
       "12    вернуться палата пашка сесть кровать стать дож...  \n",
       "14    прежде пойти далёкий полный ход немой находить...  \n",
       "15    пойти свисток свистеть машина го го го го весь...  \n",
       "...                                                 ...  \n",
       "3938  афросинья андревич стоить она немного познаком...  \n",
       "3940  кальпинский хозяин жаловать произойти еретик р...  \n",
       "3956  степан михайлович посмотреть полюбоваться сказ...  \n",
       "3964  несколько время дело обойтись уладиться отноше...  \n",
       "3982  софья николаевич безвыходный оставаться отец с...  \n",
       "\n",
       "[344 rows x 7 columns]"
      ]
     },
     "execution_count": 13,
     "metadata": {},
     "output_type": "execute_result"
    }
   ],
   "source": [
    "utils.false_predictions(df_test, df_test.author, y_pred)\n",
    "# См. первые два столбца (y_true, y_pred)"
   ]
  },
  {
   "cell_type": "markdown",
   "metadata": {},
   "source": [
    "### Кросс-валидация"
   ]
  },
  {
   "cell_type": "code",
   "execution_count": 14,
   "metadata": {},
   "outputs": [],
   "source": [
    "# Инициализируем пайплайн-классификатор\n",
    "pipe = utils.AuthorIdentificationTfidfPipeline()"
   ]
  },
  {
   "cell_type": "code",
   "execution_count": null,
   "metadata": {},
   "outputs": [],
   "source": [
    "# y_cv_pred = pd.read_csv('__tmp_y_cv_pred.csv', index_col=0).squeeze(\"columns\")"
   ]
  },
  {
   "cell_type": "code",
   "execution_count": 40,
   "metadata": {},
   "outputs": [
    {
     "name": "stderr",
     "output_type": "stream",
     "text": [
      "100%|████████████████████████████████████████████████████████████████████████████████| 134/134 [30:42<00:00, 13.75s/it]\n"
     ]
    }
   ],
   "source": [
    "# Получаем предсказания для кросс-валидации\n",
    "# (для каждого произведения обучается своя модель:\n",
    "# во время каждой итерации тестовый датасет - одно \n",
    "# из произведений, тренировочный - все остальные произведения).\n",
    "\n",
    "y_cv_pred, _ = utils.leave_one_title_out_cv_predictions(pipe, df, n_jobs=10)"
   ]
  },
  {
   "cell_type": "code",
   "execution_count": 44,
   "metadata": {},
   "outputs": [],
   "source": [
    "# По полученным в прошлой ячейке предсказаниям можем посчитать\n",
    "# среднюю f1-оценку по обученным моделям \n",
    "# (взвешенную по числу отрывков для каждого произведения).\n",
    "\n",
    "_, title_list, score_list, av_sc = utils.leave_one_title_out_cv_score(\n",
    "    df,\n",
    "    predictions=y_cv_pred, \n",
    "    f1_average='micro'\n",
    ")"
   ]
  },
  {
   "cell_type": "code",
   "execution_count": 45,
   "metadata": {},
   "outputs": [
    {
     "data": {
      "text/plain": [
       "0.8943370165745858"
      ]
     },
     "execution_count": 45,
     "metadata": {},
     "output_type": "execute_result"
    }
   ],
   "source": [
    "av_sc"
   ]
  },
  {
   "cell_type": "code",
   "execution_count": 51,
   "metadata": {},
   "outputs": [
    {
     "data": {
      "text/plain": [
       "0.8929424578274457"
      ]
     },
     "execution_count": 51,
     "metadata": {},
     "output_type": "execute_result"
    }
   ],
   "source": [
    "# Можно вычислить f1-оценку и напрямую,\n",
    "# но не знаю, насколько это корректно.\n",
    "f1_score(df.author, y_cv_pred, average='weighted')"
   ]
  },
  {
   "cell_type": "code",
   "execution_count": null,
   "metadata": {},
   "outputs": [],
   "source": []
  },
  {
   "cell_type": "code",
   "execution_count": null,
   "metadata": {},
   "outputs": [],
   "source": [
    "# Можно сразу использовать функцию leave_one_title_out_cv_score,\n",
    "# без вызова leave_one_title_out_cv_predictions. \n",
    "# Для этого ей в аргументе clf необходимо передать классификатор.\n",
    "# Пример ниже."
   ]
  },
  {
   "cell_type": "code",
   "execution_count": 52,
   "metadata": {},
   "outputs": [],
   "source": [
    "# Бинарная классификация: Толстой или Достоевский.\n",
    "\n",
    "df_dost_tolst = df[(df.author == 'lev-tolstoi') | (df.author == 'fedor-dostoevskii')]"
   ]
  },
  {
   "cell_type": "code",
   "execution_count": 53,
   "metadata": {
    "scrolled": true
   },
   "outputs": [
    {
     "name": "stderr",
     "output_type": "stream",
     "text": [
      "100%|██████████████████████████████████████████████████████████████████████████████████| 24/24 [02:07<00:00,  5.31s/it]\n"
     ]
    }
   ],
   "source": [
    "_, _, score_list, av_sc = utils.leave_one_title_out_cv_score(\n",
    "    df_dost_tolst,\n",
    "    clf=pipe, \n",
    "    f1_average='micro'\n",
    ")"
   ]
  },
  {
   "cell_type": "code",
   "execution_count": 54,
   "metadata": {},
   "outputs": [
    {
     "data": {
      "text/plain": [
       "0.9910376289193024"
      ]
     },
     "execution_count": 54,
     "metadata": {},
     "output_type": "execute_result"
    }
   ],
   "source": [
    "av_sc"
   ]
  },
  {
   "cell_type": "code",
   "execution_count": null,
   "metadata": {},
   "outputs": [],
   "source": []
  }
 ],
 "metadata": {
  "kernelspec": {
   "display_name": "Python 3 (ipykernel)",
   "language": "python",
   "name": "python3"
  },
  "language_info": {
   "codemirror_mode": {
    "name": "ipython",
    "version": 3
   },
   "file_extension": ".py",
   "mimetype": "text/x-python",
   "name": "python",
   "nbconvert_exporter": "python",
   "pygments_lexer": "ipython3",
   "version": "3.9.13"
  }
 },
 "nbformat": 4,
 "nbformat_minor": 4
}
