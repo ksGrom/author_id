{
  "cells": [
    {
      "cell_type": "code",
      "execution_count": 1,
      "id": "b11a2ae9",
      "metadata": {
        "colab": {
          "base_uri": "https://localhost:8080/"
        },
        "id": "b11a2ae9",
        "outputId": "73a7daf9-89a5-4c32-96b3-7f54d12a2a22"
      },
      "outputs": [
        {
          "output_type": "stream",
          "name": "stderr",
          "text": [
            "/usr/local/lib/python3.8/dist-packages/torch/cuda/__init__.py:497: UserWarning: Can't initialize NVML\n",
            "  warnings.warn(\"Can't initialize NVML\")\n"
          ]
        }
      ],
      "source": [
        "import pandas as pd\n",
        "import ruts\n",
        "\n",
        "from ruts import BasicStats\n",
        "from ruts import ReadabilityStats\n",
        "from ruts import DiversityStats\n",
        "from ruts import MorphStats\n",
        "\n",
        "import re\n",
        "import tqdm\n",
        "\n",
        "from sklearn.linear_model import LogisticRegression\n",
        "from catboost import CatBoostClassifier\n",
        "from sklearn.metrics import f1_score\n",
        "import warnings\n",
        "warnings.filterwarnings('ignore')\n",
        "\n",
        "from sklearn.metrics import f1_score"
      ]
    },
    {
      "cell_type": "code",
      "execution_count": 2,
      "id": "2727820e",
      "metadata": {
        "id": "2727820e"
      },
      "outputs": [],
      "source": [
        "def get_metrics_dataset(df):\n",
        "\n",
        "    from ruts import BasicStats\n",
        "    from ruts import ReadabilityStats\n",
        "    from ruts import DiversityStats\n",
        "    from ruts import MorphStats\n",
        "    from tqdm import tqdm\n",
        "    import pandas as pd\n",
        "\n",
        "    books = []\n",
        "    authors = []\n",
        "    foreign = []\n",
        "\n",
        "    df_new = pd.DataFrame()\n",
        "    d = {}\n",
        "\n",
        "    for part_id in tqdm(range(len(df['text']))):\n",
        "        chapter_text = df['text'][part_id].strip().replace('\\n', '')\n",
        "\n",
        "        try:\n",
        "            \n",
        "            # добавляем базовые статистики\n",
        "            bs = BasicStats(chapter_text)\n",
        "            bs_data = dict(bs.get_stats())\n",
        "            del bs_data['c_letters']\n",
        "            del bs_data['c_syllables']\n",
        "\n",
        "\n",
        "            # метрики читаемости\n",
        "            rs = ReadabilityStats(chapter_text)\n",
        "            rs_data = dict(rs.get_stats())\n",
        "\n",
        "\n",
        "            # морфологические метрики\n",
        "            ms = MorphStats(chapter_text)\n",
        "            ms_data = dict(ms.get_stats())\n",
        "\n",
        "\n",
        "            # метрики лексического разнообразия\n",
        "            ds = DiversityStats(chapter_text)\n",
        "            ds_data = dict(ds.get_stats())\n",
        "            \n",
        "\n",
        "            d[str(part_id) + ' ' + df['author'][part_id] + ' ' + df['work_title'][part_id]] = {**bs_data, **rs_data, \n",
        "                                                                                               **ms_data['gender'], **ms_data['number'], \n",
        "                                                                                               **ms_data['tense'], **ms_data['voice'], \n",
        "                                                                                               **ms_data['person'], **ds_data}\n",
        "            df_new = df_new.append(d[str(part_id) + ' ' + df['author'][part_id] + ' ' + df['work_title'][part_id]], ignore_index=True)\n",
        "\n",
        "            books.append(str(part_id) + ' ' + df['author'][part_id] + ' ' + df['work_title'][part_id])\n",
        "            authors.append(df['author'][part_id])\n",
        "            \n",
        "            if re.sub(\"[^a-zA-Z]+\", \"\", chapter_text) != '':\n",
        "                foreign.append(1)\n",
        "            else :\n",
        "                foreign.append(0)\n",
        "                \n",
        "        except:\n",
        "            pass\n",
        "        \n",
        "    df_new.index = books\n",
        "    df_new['author'] = authors\n",
        "    df_new['foreign'] = foreign\n",
        "        \n",
        "    return df_new"
      ]
    },
    {
      "cell_type": "code",
      "execution_count": 3,
      "id": "fb8b9d71",
      "metadata": {
        "id": "fb8b9d71"
      },
      "outputs": [],
      "source": [
        "def prepare_metric_dataset(data, final_features):\n",
        "    df = data.copy()\n",
        "    for column in ['neut', 'masc', 'femn', 'plur','sing', 'pres', 'past', \n",
        "                 'futr', 'pssv', 'actv', '2per','3per', '1per']:\n",
        "        df[column] = df[column] / df['n_words'] # делаем проценты вместо чисел для некоторых показателей\n",
        "    df.index = df['Unnamed: 0'] # переопределяем индекс\n",
        "    return df[final_features]"
      ]
    },
    {
      "cell_type": "code",
      "execution_count": 4,
      "id": "4f38c098",
      "metadata": {
        "id": "4f38c098"
      },
      "outputs": [],
      "source": [
        "def get_variables(df_train, df_test):\n",
        "    df_train1 = df_train.copy()\n",
        "    df_test1 = df_test.copy()\n",
        "\n",
        "    X_train = df_train1.drop(['author'], axis=1)\n",
        "    y_train = df_train1['author']\n",
        "    X_test = df_test1.drop(['author'], axis=1)\n",
        "    y_test = df_test1['author']\n",
        "    X_train.fillna(value=0, inplace=True)\n",
        "    X_test.fillna(value=0, inplace=True)\n",
        "#    X_train = X_train.set_index('Unnamed: 0')\n",
        "#    X_test = X_test.set_index('Unnamed: 0')\n",
        "    return X_train, y_train, X_test, y_test\n"
      ]
    },
    {
      "cell_type": "code",
      "execution_count": 5,
      "id": "b364b40e",
      "metadata": {
        "scrolled": false,
        "id": "b364b40e"
      },
      "outputs": [],
      "source": [
        "metrics_train = pd.read_csv('metrics_raw_train_foreign250.csv')\n",
        "metrics_test = pd.read_csv('metrics_raw_test_foreign250.csv')\n",
        "\n",
        "final_features = ['smog_index', 'masc', 'neut', 'femn', 'sing', 'plur', 'past', 'futr',\n",
        "       'pres', 'actv', '1per', '2per', '3per', 'mttr', 'hdd', 'pssv',\n",
        "       'foreign', 'author']\n",
        "\n",
        "cm_train = prepare_metric_dataset(metrics_train, final_features)\n",
        "cm_test = prepare_metric_dataset(metrics_test, final_features)"
      ]
    },
    {
      "cell_type": "code",
      "execution_count": 6,
      "id": "76bc5888",
      "metadata": {
        "id": "76bc5888"
      },
      "outputs": [],
      "source": [
        "#metrics_train.to_csv('metrics_raw_train_foreign250.csv')\n",
        "#metrics_test.to_csv('metrics_raw_test_foreign250.csv')"
      ]
    },
    {
      "cell_type": "code",
      "source": [
        "cm_train.columns == cm_test.columns"
      ],
      "metadata": {
        "colab": {
          "base_uri": "https://localhost:8080/"
        },
        "id": "qRrNuGgW6M1Z",
        "outputId": "8819c543-3dae-45b8-fb13-c53e1aee5920"
      },
      "id": "qRrNuGgW6M1Z",
      "execution_count": 7,
      "outputs": [
        {
          "output_type": "execute_result",
          "data": {
            "text/plain": [
              "array([ True,  True,  True,  True,  True,  True,  True,  True,  True,\n",
              "        True,  True,  True,  True,  True,  True,  True,  True,  True])"
            ]
          },
          "metadata": {},
          "execution_count": 7
        }
      ]
    },
    {
      "cell_type": "code",
      "source": [
        "X_train.columns"
      ],
      "metadata": {
        "colab": {
          "base_uri": "https://localhost:8080/"
        },
        "id": "TKln55Hc9YOH",
        "outputId": "5345509a-7fb9-4204-e7e9-68595d88e4b3"
      },
      "id": "TKln55Hc9YOH",
      "execution_count": 13,
      "outputs": [
        {
          "output_type": "execute_result",
          "data": {
            "text/plain": [
              "Index(['smog_index', 'masc', 'neut', 'femn', 'sing', 'plur', 'past', 'futr',\n",
              "       'pres', 'actv', '1per', '2per', '3per', 'mttr', 'hdd', 'pssv',\n",
              "       'foreign'],\n",
              "      dtype='object')"
            ]
          },
          "metadata": {},
          "execution_count": 13
        }
      ]
    },
    {
      "cell_type": "code",
      "execution_count": 8,
      "id": "1ac6a4d8",
      "metadata": {
        "id": "1ac6a4d8"
      },
      "outputs": [],
      "source": [
        "X_train, y_train, X_test, y_test =  get_variables(cm_train, cm_test)\n",
        "\n",
        "X_train2 = X_train.copy()\n",
        "X_test2 = X_test.copy()\n",
        "X_train2.drop(columns='foreign', inplace = True)\n",
        "X_test2.drop(columns='foreign', inplace = True)"
      ]
    },
    {
      "cell_type": "code",
      "execution_count": 9,
      "id": "797e33e6",
      "metadata": {
        "scrolled": true,
        "id": "797e33e6",
        "outputId": "b8b6eddf-eaee-4d3b-8001-a98e52a1318b",
        "colab": {
          "base_uri": "https://localhost:8080/"
        }
      },
      "outputs": [
        {
          "output_type": "stream",
          "name": "stdout",
          "text": [
            "F1-score:  0.3617921492444837\n"
          ]
        }
      ],
      "source": [
        "model = CatBoostClassifier()\n",
        "model.fit(X_train, y_train, silent=True)\n",
        "preds = model.predict(X_test)\n",
        "print('F1-score: ', f1_score(y_test, preds, average='weighted'))"
      ]
    },
    {
      "cell_type": "code",
      "execution_count": 10,
      "id": "4a1019b7",
      "metadata": {
        "id": "4a1019b7",
        "outputId": "74841a5c-ed41-471c-f2cb-8100c11f73b9",
        "colab": {
          "base_uri": "https://localhost:8080/"
        }
      },
      "outputs": [
        {
          "output_type": "stream",
          "name": "stdout",
          "text": [
            "F1-score:  0.34887386021923117\n"
          ]
        }
      ],
      "source": [
        "model = CatBoostClassifier()\n",
        "model.fit(X_train2, y_train, silent=True)\n",
        "preds = model.predict(X_test2)\n",
        "print('F1-score: ', f1_score(y_test, preds, average='weighted'))"
      ]
    },
    {
      "cell_type": "code",
      "execution_count": 11,
      "id": "16df6ade",
      "metadata": {
        "id": "16df6ade",
        "outputId": "881ba68a-43c7-407d-ff89-7cae516ab5e9",
        "colab": {
          "base_uri": "https://localhost:8080/"
        }
      },
      "outputs": [
        {
          "output_type": "stream",
          "name": "stdout",
          "text": [
            "F1-score:  0.35552174283740146\n"
          ]
        }
      ],
      "source": [
        "#multi_class='multinomial', max_iter=10000, C=121\n",
        "logreg_model = LogisticRegression(multi_class='multinomial', max_iter=10000, C=121) # уже подобранные гиперпараметры\n",
        "logreg_model.fit(X_train, y_train)\n",
        "pred_logreg = logreg_model.predict(X_test)\n",
        "print('F1-score: ', f1_score(y_test, pred_logreg, average='weighted'))"
      ]
    },
    {
      "cell_type": "code",
      "execution_count": 12,
      "id": "d4e661f7",
      "metadata": {
        "id": "d4e661f7",
        "outputId": "90704465-15ca-4b25-9a83-a82fbd308b49",
        "colab": {
          "base_uri": "https://localhost:8080/"
        }
      },
      "outputs": [
        {
          "output_type": "stream",
          "name": "stdout",
          "text": [
            "F1-score:  0.2561324008402221\n"
          ]
        }
      ],
      "source": [
        "logreg_model = LogisticRegression() # уже подобранные гиперпараметры\n",
        "logreg_model.fit(X_train2, y_train)\n",
        "pred_logreg = logreg_model.predict(X_test2)\n",
        "print('F1-score: ', f1_score(y_test, pred_logreg, average='weighted'))"
      ]
    }
  ],
  "metadata": {
    "kernelspec": {
      "display_name": "Python 3 (ipykernel)",
      "language": "python",
      "name": "python3"
    },
    "language_info": {
      "codemirror_mode": {
        "name": "ipython",
        "version": 3
      },
      "file_extension": ".py",
      "mimetype": "text/x-python",
      "name": "python",
      "nbconvert_exporter": "python",
      "pygments_lexer": "ipython3",
      "version": "3.8.16"
    },
    "colab": {
      "provenance": []
    }
  },
  "nbformat": 4,
  "nbformat_minor": 5
}